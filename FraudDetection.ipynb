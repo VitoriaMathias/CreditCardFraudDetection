{
 "cells": [
  {
   "cell_type": "markdown",
   "id": "09e998c9",
   "metadata": {},
   "source": [
    "## Introdução\n",
    "\n",
    "Este notebook tem como objetivo criar um modelo que detecte movimentações fraudulentas em cartões de crédito. É importante que as companhias saibam reconhecer fraudes para que os clientes não sejam cobrados por itens que eles não compraram.\n",
    "Para essa finalidade, o dataset disponível em https://www.kaggle.com/datasets/mlg-ulb/creditcardfraud foi explorado, tratado e utilizado para treinar um modelo de classificação de machine learning.\n",
    "A base de dados conta com 28 variáveis anonimizadas que passaram por uma transformação PCA, tempo e quantia relacionadas à cartões de crédito de clientes europeus durante dois dias em 2013. \n",
    "\n",
    "## Sumário\n",
    "* <a href='#exploracao'> Exploração dos dados </a>\n",
    "* <a href='#tratamento'> Tratamento dos dados </a>\n",
    "    * <a href='#escala'> Normalização </a>\n",
    "    * <a href='#balanceamento'> Balanceamento </a>\n",
    "    * <a href='#correlacao'> Correlação </a>\n",
    "    * <a href='#outliers'> Outliers </a>\n",
    "* <a href='#modelo'> Modelagem </a>\n",
    "* <a href='#resultados'> Métricas e resultados </a>\n",
    "    * <a href='#calibracao'> Calibração</a>\n",
    "    * <a href='#performance'> Performance</a>\n",
    "    * <a href='#smote'> SMOTE</a>\n",
    "    * <a href='#conclusao'> Conclusão </a>"
   ]
  },
  {
   "cell_type": "markdown",
   "id": "57998544",
   "metadata": {},
   "source": [
    "<a id='exploracao'></a>\n",
    "## Exploração dos dados\n",
    "Nesta seção abrimos o arquivo .csv com os dados de transação e verificamos algumas estatísticas (valores máximos e mínimos, médias), nomes das colunas, se há valores vazios para tratamento e qual a porcentagem de fraude neste dataset"
   ]
  },
  {
   "cell_type": "code",
   "execution_count": 1,
   "id": "ac036586",
   "metadata": {},
   "outputs": [],
   "source": [
    "import pandas as pd\n",
    "import numpy as np\n",
    "\n",
    "data = pd.read_csv('creditcard.csv')"
   ]
  },
  {
   "cell_type": "code",
   "execution_count": 2,
   "id": "beac692d",
   "metadata": {},
   "outputs": [
    {
     "data": {
      "text/html": [
       "<div>\n",
       "<style scoped>\n",
       "    .dataframe tbody tr th:only-of-type {\n",
       "        vertical-align: middle;\n",
       "    }\n",
       "\n",
       "    .dataframe tbody tr th {\n",
       "        vertical-align: top;\n",
       "    }\n",
       "\n",
       "    .dataframe thead th {\n",
       "        text-align: right;\n",
       "    }\n",
       "</style>\n",
       "<table border=\"1\" class=\"dataframe\">\n",
       "  <thead>\n",
       "    <tr style=\"text-align: right;\">\n",
       "      <th></th>\n",
       "      <th>Time</th>\n",
       "      <th>V1</th>\n",
       "      <th>V2</th>\n",
       "      <th>V3</th>\n",
       "      <th>V4</th>\n",
       "      <th>V5</th>\n",
       "      <th>V6</th>\n",
       "      <th>V7</th>\n",
       "      <th>V8</th>\n",
       "      <th>V9</th>\n",
       "      <th>...</th>\n",
       "      <th>V21</th>\n",
       "      <th>V22</th>\n",
       "      <th>V23</th>\n",
       "      <th>V24</th>\n",
       "      <th>V25</th>\n",
       "      <th>V26</th>\n",
       "      <th>V27</th>\n",
       "      <th>V28</th>\n",
       "      <th>Amount</th>\n",
       "      <th>Class</th>\n",
       "    </tr>\n",
       "  </thead>\n",
       "  <tbody>\n",
       "    <tr>\n",
       "      <th>count</th>\n",
       "      <td>284807.000000</td>\n",
       "      <td>2.848070e+05</td>\n",
       "      <td>2.848070e+05</td>\n",
       "      <td>2.848070e+05</td>\n",
       "      <td>2.848070e+05</td>\n",
       "      <td>2.848070e+05</td>\n",
       "      <td>2.848070e+05</td>\n",
       "      <td>2.848070e+05</td>\n",
       "      <td>2.848070e+05</td>\n",
       "      <td>2.848070e+05</td>\n",
       "      <td>...</td>\n",
       "      <td>2.848070e+05</td>\n",
       "      <td>2.848070e+05</td>\n",
       "      <td>2.848070e+05</td>\n",
       "      <td>2.848070e+05</td>\n",
       "      <td>2.848070e+05</td>\n",
       "      <td>2.848070e+05</td>\n",
       "      <td>2.848070e+05</td>\n",
       "      <td>2.848070e+05</td>\n",
       "      <td>284807.000000</td>\n",
       "      <td>284807.000000</td>\n",
       "    </tr>\n",
       "    <tr>\n",
       "      <th>mean</th>\n",
       "      <td>94813.859575</td>\n",
       "      <td>3.918649e-15</td>\n",
       "      <td>5.682686e-16</td>\n",
       "      <td>-8.761736e-15</td>\n",
       "      <td>2.811118e-15</td>\n",
       "      <td>-1.552103e-15</td>\n",
       "      <td>2.040130e-15</td>\n",
       "      <td>-1.698953e-15</td>\n",
       "      <td>-1.893285e-16</td>\n",
       "      <td>-3.147640e-15</td>\n",
       "      <td>...</td>\n",
       "      <td>1.473120e-16</td>\n",
       "      <td>8.042109e-16</td>\n",
       "      <td>5.282512e-16</td>\n",
       "      <td>4.456271e-15</td>\n",
       "      <td>1.426896e-15</td>\n",
       "      <td>1.701640e-15</td>\n",
       "      <td>-3.662252e-16</td>\n",
       "      <td>-1.217809e-16</td>\n",
       "      <td>88.349619</td>\n",
       "      <td>0.001727</td>\n",
       "    </tr>\n",
       "    <tr>\n",
       "      <th>std</th>\n",
       "      <td>47488.145955</td>\n",
       "      <td>1.958696e+00</td>\n",
       "      <td>1.651309e+00</td>\n",
       "      <td>1.516255e+00</td>\n",
       "      <td>1.415869e+00</td>\n",
       "      <td>1.380247e+00</td>\n",
       "      <td>1.332271e+00</td>\n",
       "      <td>1.237094e+00</td>\n",
       "      <td>1.194353e+00</td>\n",
       "      <td>1.098632e+00</td>\n",
       "      <td>...</td>\n",
       "      <td>7.345240e-01</td>\n",
       "      <td>7.257016e-01</td>\n",
       "      <td>6.244603e-01</td>\n",
       "      <td>6.056471e-01</td>\n",
       "      <td>5.212781e-01</td>\n",
       "      <td>4.822270e-01</td>\n",
       "      <td>4.036325e-01</td>\n",
       "      <td>3.300833e-01</td>\n",
       "      <td>250.120109</td>\n",
       "      <td>0.041527</td>\n",
       "    </tr>\n",
       "    <tr>\n",
       "      <th>min</th>\n",
       "      <td>0.000000</td>\n",
       "      <td>-5.640751e+01</td>\n",
       "      <td>-7.271573e+01</td>\n",
       "      <td>-4.832559e+01</td>\n",
       "      <td>-5.683171e+00</td>\n",
       "      <td>-1.137433e+02</td>\n",
       "      <td>-2.616051e+01</td>\n",
       "      <td>-4.355724e+01</td>\n",
       "      <td>-7.321672e+01</td>\n",
       "      <td>-1.343407e+01</td>\n",
       "      <td>...</td>\n",
       "      <td>-3.483038e+01</td>\n",
       "      <td>-1.093314e+01</td>\n",
       "      <td>-4.480774e+01</td>\n",
       "      <td>-2.836627e+00</td>\n",
       "      <td>-1.029540e+01</td>\n",
       "      <td>-2.604551e+00</td>\n",
       "      <td>-2.256568e+01</td>\n",
       "      <td>-1.543008e+01</td>\n",
       "      <td>0.000000</td>\n",
       "      <td>0.000000</td>\n",
       "    </tr>\n",
       "    <tr>\n",
       "      <th>25%</th>\n",
       "      <td>54201.500000</td>\n",
       "      <td>-9.203734e-01</td>\n",
       "      <td>-5.985499e-01</td>\n",
       "      <td>-8.903648e-01</td>\n",
       "      <td>-8.486401e-01</td>\n",
       "      <td>-6.915971e-01</td>\n",
       "      <td>-7.682956e-01</td>\n",
       "      <td>-5.540759e-01</td>\n",
       "      <td>-2.086297e-01</td>\n",
       "      <td>-6.430976e-01</td>\n",
       "      <td>...</td>\n",
       "      <td>-2.283949e-01</td>\n",
       "      <td>-5.423504e-01</td>\n",
       "      <td>-1.618463e-01</td>\n",
       "      <td>-3.545861e-01</td>\n",
       "      <td>-3.171451e-01</td>\n",
       "      <td>-3.269839e-01</td>\n",
       "      <td>-7.083953e-02</td>\n",
       "      <td>-5.295979e-02</td>\n",
       "      <td>5.600000</td>\n",
       "      <td>0.000000</td>\n",
       "    </tr>\n",
       "    <tr>\n",
       "      <th>50%</th>\n",
       "      <td>84692.000000</td>\n",
       "      <td>1.810880e-02</td>\n",
       "      <td>6.548556e-02</td>\n",
       "      <td>1.798463e-01</td>\n",
       "      <td>-1.984653e-02</td>\n",
       "      <td>-5.433583e-02</td>\n",
       "      <td>-2.741871e-01</td>\n",
       "      <td>4.010308e-02</td>\n",
       "      <td>2.235804e-02</td>\n",
       "      <td>-5.142873e-02</td>\n",
       "      <td>...</td>\n",
       "      <td>-2.945017e-02</td>\n",
       "      <td>6.781943e-03</td>\n",
       "      <td>-1.119293e-02</td>\n",
       "      <td>4.097606e-02</td>\n",
       "      <td>1.659350e-02</td>\n",
       "      <td>-5.213911e-02</td>\n",
       "      <td>1.342146e-03</td>\n",
       "      <td>1.124383e-02</td>\n",
       "      <td>22.000000</td>\n",
       "      <td>0.000000</td>\n",
       "    </tr>\n",
       "    <tr>\n",
       "      <th>75%</th>\n",
       "      <td>139320.500000</td>\n",
       "      <td>1.315642e+00</td>\n",
       "      <td>8.037239e-01</td>\n",
       "      <td>1.027196e+00</td>\n",
       "      <td>7.433413e-01</td>\n",
       "      <td>6.119264e-01</td>\n",
       "      <td>3.985649e-01</td>\n",
       "      <td>5.704361e-01</td>\n",
       "      <td>3.273459e-01</td>\n",
       "      <td>5.971390e-01</td>\n",
       "      <td>...</td>\n",
       "      <td>1.863772e-01</td>\n",
       "      <td>5.285536e-01</td>\n",
       "      <td>1.476421e-01</td>\n",
       "      <td>4.395266e-01</td>\n",
       "      <td>3.507156e-01</td>\n",
       "      <td>2.409522e-01</td>\n",
       "      <td>9.104512e-02</td>\n",
       "      <td>7.827995e-02</td>\n",
       "      <td>77.165000</td>\n",
       "      <td>0.000000</td>\n",
       "    </tr>\n",
       "    <tr>\n",
       "      <th>max</th>\n",
       "      <td>172792.000000</td>\n",
       "      <td>2.454930e+00</td>\n",
       "      <td>2.205773e+01</td>\n",
       "      <td>9.382558e+00</td>\n",
       "      <td>1.687534e+01</td>\n",
       "      <td>3.480167e+01</td>\n",
       "      <td>7.330163e+01</td>\n",
       "      <td>1.205895e+02</td>\n",
       "      <td>2.000721e+01</td>\n",
       "      <td>1.559499e+01</td>\n",
       "      <td>...</td>\n",
       "      <td>2.720284e+01</td>\n",
       "      <td>1.050309e+01</td>\n",
       "      <td>2.252841e+01</td>\n",
       "      <td>4.584549e+00</td>\n",
       "      <td>7.519589e+00</td>\n",
       "      <td>3.517346e+00</td>\n",
       "      <td>3.161220e+01</td>\n",
       "      <td>3.384781e+01</td>\n",
       "      <td>25691.160000</td>\n",
       "      <td>1.000000</td>\n",
       "    </tr>\n",
       "  </tbody>\n",
       "</table>\n",
       "<p>8 rows × 31 columns</p>\n",
       "</div>"
      ],
      "text/plain": [
       "                Time            V1            V2            V3            V4  \\\n",
       "count  284807.000000  2.848070e+05  2.848070e+05  2.848070e+05  2.848070e+05   \n",
       "mean    94813.859575  3.918649e-15  5.682686e-16 -8.761736e-15  2.811118e-15   \n",
       "std     47488.145955  1.958696e+00  1.651309e+00  1.516255e+00  1.415869e+00   \n",
       "min         0.000000 -5.640751e+01 -7.271573e+01 -4.832559e+01 -5.683171e+00   \n",
       "25%     54201.500000 -9.203734e-01 -5.985499e-01 -8.903648e-01 -8.486401e-01   \n",
       "50%     84692.000000  1.810880e-02  6.548556e-02  1.798463e-01 -1.984653e-02   \n",
       "75%    139320.500000  1.315642e+00  8.037239e-01  1.027196e+00  7.433413e-01   \n",
       "max    172792.000000  2.454930e+00  2.205773e+01  9.382558e+00  1.687534e+01   \n",
       "\n",
       "                 V5            V6            V7            V8            V9  \\\n",
       "count  2.848070e+05  2.848070e+05  2.848070e+05  2.848070e+05  2.848070e+05   \n",
       "mean  -1.552103e-15  2.040130e-15 -1.698953e-15 -1.893285e-16 -3.147640e-15   \n",
       "std    1.380247e+00  1.332271e+00  1.237094e+00  1.194353e+00  1.098632e+00   \n",
       "min   -1.137433e+02 -2.616051e+01 -4.355724e+01 -7.321672e+01 -1.343407e+01   \n",
       "25%   -6.915971e-01 -7.682956e-01 -5.540759e-01 -2.086297e-01 -6.430976e-01   \n",
       "50%   -5.433583e-02 -2.741871e-01  4.010308e-02  2.235804e-02 -5.142873e-02   \n",
       "75%    6.119264e-01  3.985649e-01  5.704361e-01  3.273459e-01  5.971390e-01   \n",
       "max    3.480167e+01  7.330163e+01  1.205895e+02  2.000721e+01  1.559499e+01   \n",
       "\n",
       "       ...           V21           V22           V23           V24  \\\n",
       "count  ...  2.848070e+05  2.848070e+05  2.848070e+05  2.848070e+05   \n",
       "mean   ...  1.473120e-16  8.042109e-16  5.282512e-16  4.456271e-15   \n",
       "std    ...  7.345240e-01  7.257016e-01  6.244603e-01  6.056471e-01   \n",
       "min    ... -3.483038e+01 -1.093314e+01 -4.480774e+01 -2.836627e+00   \n",
       "25%    ... -2.283949e-01 -5.423504e-01 -1.618463e-01 -3.545861e-01   \n",
       "50%    ... -2.945017e-02  6.781943e-03 -1.119293e-02  4.097606e-02   \n",
       "75%    ...  1.863772e-01  5.285536e-01  1.476421e-01  4.395266e-01   \n",
       "max    ...  2.720284e+01  1.050309e+01  2.252841e+01  4.584549e+00   \n",
       "\n",
       "                V25           V26           V27           V28         Amount  \\\n",
       "count  2.848070e+05  2.848070e+05  2.848070e+05  2.848070e+05  284807.000000   \n",
       "mean   1.426896e-15  1.701640e-15 -3.662252e-16 -1.217809e-16      88.349619   \n",
       "std    5.212781e-01  4.822270e-01  4.036325e-01  3.300833e-01     250.120109   \n",
       "min   -1.029540e+01 -2.604551e+00 -2.256568e+01 -1.543008e+01       0.000000   \n",
       "25%   -3.171451e-01 -3.269839e-01 -7.083953e-02 -5.295979e-02       5.600000   \n",
       "50%    1.659350e-02 -5.213911e-02  1.342146e-03  1.124383e-02      22.000000   \n",
       "75%    3.507156e-01  2.409522e-01  9.104512e-02  7.827995e-02      77.165000   \n",
       "max    7.519589e+00  3.517346e+00  3.161220e+01  3.384781e+01   25691.160000   \n",
       "\n",
       "               Class  \n",
       "count  284807.000000  \n",
       "mean        0.001727  \n",
       "std         0.041527  \n",
       "min         0.000000  \n",
       "25%         0.000000  \n",
       "50%         0.000000  \n",
       "75%         0.000000  \n",
       "max         1.000000  \n",
       "\n",
       "[8 rows x 31 columns]"
      ]
     },
     "execution_count": 2,
     "metadata": {},
     "output_type": "execute_result"
    }
   ],
   "source": [
    "data.describe()"
   ]
  },
  {
   "cell_type": "code",
   "execution_count": 3,
   "id": "0ecacbc2",
   "metadata": {},
   "outputs": [
    {
     "name": "stdout",
     "output_type": "stream",
     "text": [
      "Número de dados faltantes:  0\n"
     ]
    }
   ],
   "source": [
    "print(\"Número de dados faltantes: \",data.isnull().sum().sum() )"
   ]
  },
  {
   "cell_type": "code",
   "execution_count": 4,
   "id": "9501724e",
   "metadata": {},
   "outputs": [
    {
     "name": "stdout",
     "output_type": "stream",
     "text": [
      "Número de transações com valor 0: 1825, isso representa 0.64% do dataset\n",
      "Dessas, 27 transações eram fraude, isso representa 5.49% das fraudes\n"
     ]
    }
   ],
   "source": [
    "zero_trans=data.Amount.loc[data.Amount==0].count()\n",
    "len_dataset = data.Class.count()\n",
    "num_fraud = data.Class.sum()\n",
    "zero_fraud = data.Amount.loc[(data.Amount==0) & (data.Class==1)].count()\n",
    "print(\"Número de transações com valor 0: {}, isso representa {:.2f}% do dataset\".format(zero_trans,zero_trans/len_dataset*100 ))\n",
    "print(\"Dessas, {} transações eram fraude, isso representa {:.2f}% das fraudes\".format(zero_fraud, zero_fraud/num_fraud*100))"
   ]
  },
  {
   "cell_type": "markdown",
   "id": "f152369b",
   "metadata": {},
   "source": [
    "As transações com valor 0 podem ser a validação de um cartão, para saber se está ativo. Não parece ser relevante no dataset e, suprimindo ou substituindo esses valores, pode-se perder informação. Por isso opto por manter as transações de valor 0."
   ]
  },
  {
   "cell_type": "code",
   "execution_count": 5,
   "id": "f92d4248",
   "metadata": {},
   "outputs": [
    {
     "name": "stdout",
     "output_type": "stream",
     "text": [
      "Número de fraudes: 492, isso representa 0.172749% do dataset\n"
     ]
    }
   ],
   "source": [
    "perc_fraud = num_fraud/len_dataset\n",
    "print(\"Número de fraudes: {}, isso representa {:2f}% do dataset\".format(num_fraud, perc_fraud*100))"
   ]
  },
  {
   "cell_type": "markdown",
   "id": "114f1d1f",
   "metadata": {},
   "source": [
    "<a id='tratamento'></a>\n",
    "## Tratamento dos dados"
   ]
  },
  {
   "cell_type": "markdown",
   "id": "277288d3",
   "metadata": {},
   "source": [
    "### Ciclo de tempo\n",
    "Tratando coluna de tempo: ela é contada em segundos, então preciso colocá-la em ciclos. Time/3600 = horas passadas (pegar sem decimal). Para colocar em ciclo do dia, a hora é o resto da divisão por 24h"
   ]
  },
  {
   "cell_type": "code",
   "execution_count": 6,
   "id": "52e29555",
   "metadata": {},
   "outputs": [],
   "source": [
    "data[\"TimeHour\"] = round(data.Time/3600)%24"
   ]
  },
  {
   "cell_type": "markdown",
   "id": "bc9decc7",
   "metadata": {},
   "source": [
    "<a id='escala'></a>\n",
    "### Normalização\n",
    "Nesta subseção corrijo a escala das colunas \"Amount\" e \"Time\" já que são as únicas variáveis que não passaram por tratamento antecedente e essa diferença de grandeza entre os parâmetros interfere no treinamento do modelo. Dessa forma, o método visa tornar a média dos valores igual a 0 sem perder informação dos dados."
   ]
  },
  {
   "cell_type": "code",
   "execution_count": 7,
   "id": "4f03041d",
   "metadata": {},
   "outputs": [
    {
     "data": {
      "text/html": [
       "<div>\n",
       "<style scoped>\n",
       "    .dataframe tbody tr th:only-of-type {\n",
       "        vertical-align: middle;\n",
       "    }\n",
       "\n",
       "    .dataframe tbody tr th {\n",
       "        vertical-align: top;\n",
       "    }\n",
       "\n",
       "    .dataframe thead th {\n",
       "        text-align: right;\n",
       "    }\n",
       "</style>\n",
       "<table border=\"1\" class=\"dataframe\">\n",
       "  <thead>\n",
       "    <tr style=\"text-align: right;\">\n",
       "      <th></th>\n",
       "      <th>Time</th>\n",
       "      <th>V1</th>\n",
       "      <th>V2</th>\n",
       "      <th>V3</th>\n",
       "      <th>V4</th>\n",
       "      <th>V5</th>\n",
       "      <th>V6</th>\n",
       "      <th>V7</th>\n",
       "      <th>V8</th>\n",
       "      <th>V9</th>\n",
       "      <th>...</th>\n",
       "      <th>V25</th>\n",
       "      <th>V26</th>\n",
       "      <th>V27</th>\n",
       "      <th>V28</th>\n",
       "      <th>Amount</th>\n",
       "      <th>Class</th>\n",
       "      <th>TimeHour</th>\n",
       "      <th>VAmount</th>\n",
       "      <th>VTime</th>\n",
       "      <th>VTimeHour</th>\n",
       "    </tr>\n",
       "  </thead>\n",
       "  <tbody>\n",
       "    <tr>\n",
       "      <th>0</th>\n",
       "      <td>0.0</td>\n",
       "      <td>-1.359807</td>\n",
       "      <td>-0.072781</td>\n",
       "      <td>2.536347</td>\n",
       "      <td>1.378155</td>\n",
       "      <td>-0.338321</td>\n",
       "      <td>0.462388</td>\n",
       "      <td>0.239599</td>\n",
       "      <td>0.098698</td>\n",
       "      <td>0.363787</td>\n",
       "      <td>...</td>\n",
       "      <td>0.128539</td>\n",
       "      <td>-0.189115</td>\n",
       "      <td>0.133558</td>\n",
       "      <td>-0.021053</td>\n",
       "      <td>149.62</td>\n",
       "      <td>0</td>\n",
       "      <td>0.0</td>\n",
       "      <td>1.783274</td>\n",
       "      <td>-0.994983</td>\n",
       "      <td>-1.666667</td>\n",
       "    </tr>\n",
       "    <tr>\n",
       "      <th>1</th>\n",
       "      <td>0.0</td>\n",
       "      <td>1.191857</td>\n",
       "      <td>0.266151</td>\n",
       "      <td>0.166480</td>\n",
       "      <td>0.448154</td>\n",
       "      <td>0.060018</td>\n",
       "      <td>-0.082361</td>\n",
       "      <td>-0.078803</td>\n",
       "      <td>0.085102</td>\n",
       "      <td>-0.255425</td>\n",
       "      <td>...</td>\n",
       "      <td>0.167170</td>\n",
       "      <td>0.125895</td>\n",
       "      <td>-0.008983</td>\n",
       "      <td>0.014724</td>\n",
       "      <td>2.69</td>\n",
       "      <td>0</td>\n",
       "      <td>0.0</td>\n",
       "      <td>-0.269825</td>\n",
       "      <td>-0.994983</td>\n",
       "      <td>-1.666667</td>\n",
       "    </tr>\n",
       "    <tr>\n",
       "      <th>2</th>\n",
       "      <td>1.0</td>\n",
       "      <td>-1.358354</td>\n",
       "      <td>-1.340163</td>\n",
       "      <td>1.773209</td>\n",
       "      <td>0.379780</td>\n",
       "      <td>-0.503198</td>\n",
       "      <td>1.800499</td>\n",
       "      <td>0.791461</td>\n",
       "      <td>0.247676</td>\n",
       "      <td>-1.514654</td>\n",
       "      <td>...</td>\n",
       "      <td>-0.327642</td>\n",
       "      <td>-0.139097</td>\n",
       "      <td>-0.055353</td>\n",
       "      <td>-0.059752</td>\n",
       "      <td>378.66</td>\n",
       "      <td>0</td>\n",
       "      <td>0.0</td>\n",
       "      <td>4.983721</td>\n",
       "      <td>-0.994972</td>\n",
       "      <td>-1.666667</td>\n",
       "    </tr>\n",
       "    <tr>\n",
       "      <th>3</th>\n",
       "      <td>1.0</td>\n",
       "      <td>-0.966272</td>\n",
       "      <td>-0.185226</td>\n",
       "      <td>1.792993</td>\n",
       "      <td>-0.863291</td>\n",
       "      <td>-0.010309</td>\n",
       "      <td>1.247203</td>\n",
       "      <td>0.237609</td>\n",
       "      <td>0.377436</td>\n",
       "      <td>-1.387024</td>\n",
       "      <td>...</td>\n",
       "      <td>0.647376</td>\n",
       "      <td>-0.221929</td>\n",
       "      <td>0.062723</td>\n",
       "      <td>0.061458</td>\n",
       "      <td>123.50</td>\n",
       "      <td>0</td>\n",
       "      <td>0.0</td>\n",
       "      <td>1.418291</td>\n",
       "      <td>-0.994972</td>\n",
       "      <td>-1.666667</td>\n",
       "    </tr>\n",
       "    <tr>\n",
       "      <th>4</th>\n",
       "      <td>2.0</td>\n",
       "      <td>-1.158233</td>\n",
       "      <td>0.877737</td>\n",
       "      <td>1.548718</td>\n",
       "      <td>0.403034</td>\n",
       "      <td>-0.407193</td>\n",
       "      <td>0.095921</td>\n",
       "      <td>0.592941</td>\n",
       "      <td>-0.270533</td>\n",
       "      <td>0.817739</td>\n",
       "      <td>...</td>\n",
       "      <td>-0.206010</td>\n",
       "      <td>0.502292</td>\n",
       "      <td>0.219422</td>\n",
       "      <td>0.215153</td>\n",
       "      <td>69.99</td>\n",
       "      <td>0</td>\n",
       "      <td>0.0</td>\n",
       "      <td>0.670579</td>\n",
       "      <td>-0.994960</td>\n",
       "      <td>-1.666667</td>\n",
       "    </tr>\n",
       "  </tbody>\n",
       "</table>\n",
       "<p>5 rows × 35 columns</p>\n",
       "</div>"
      ],
      "text/plain": [
       "   Time        V1        V2        V3        V4        V5        V6        V7  \\\n",
       "0   0.0 -1.359807 -0.072781  2.536347  1.378155 -0.338321  0.462388  0.239599   \n",
       "1   0.0  1.191857  0.266151  0.166480  0.448154  0.060018 -0.082361 -0.078803   \n",
       "2   1.0 -1.358354 -1.340163  1.773209  0.379780 -0.503198  1.800499  0.791461   \n",
       "3   1.0 -0.966272 -0.185226  1.792993 -0.863291 -0.010309  1.247203  0.237609   \n",
       "4   2.0 -1.158233  0.877737  1.548718  0.403034 -0.407193  0.095921  0.592941   \n",
       "\n",
       "         V8        V9  ...       V25       V26       V27       V28  Amount  \\\n",
       "0  0.098698  0.363787  ...  0.128539 -0.189115  0.133558 -0.021053  149.62   \n",
       "1  0.085102 -0.255425  ...  0.167170  0.125895 -0.008983  0.014724    2.69   \n",
       "2  0.247676 -1.514654  ... -0.327642 -0.139097 -0.055353 -0.059752  378.66   \n",
       "3  0.377436 -1.387024  ...  0.647376 -0.221929  0.062723  0.061458  123.50   \n",
       "4 -0.270533  0.817739  ... -0.206010  0.502292  0.219422  0.215153   69.99   \n",
       "\n",
       "   Class  TimeHour   VAmount     VTime  VTimeHour  \n",
       "0      0       0.0  1.783274 -0.994983  -1.666667  \n",
       "1      0       0.0 -0.269825 -0.994983  -1.666667  \n",
       "2      0       0.0  4.983721 -0.994972  -1.666667  \n",
       "3      0       0.0  1.418291 -0.994972  -1.666667  \n",
       "4      0       0.0  0.670579 -0.994960  -1.666667  \n",
       "\n",
       "[5 rows x 35 columns]"
      ]
     },
     "execution_count": 7,
     "metadata": {},
     "output_type": "execute_result"
    }
   ],
   "source": [
    "from sklearn.preprocessing import RobustScaler\n",
    "\n",
    "data_scaled = data.copy()\n",
    "scaler = RobustScaler()\n",
    "\n",
    "data_scaled['VAmount'] = scaler.fit_transform(np.array(data['Amount']).reshape(-1, 1))\n",
    "data_scaled['VTime'] = scaler.fit_transform(np.array(data['Time']).reshape(-1, 1))\n",
    "data_scaled['VTimeHour'] = scaler.fit_transform(np.array(data['TimeHour']).reshape(-1, 1))\n",
    "\n",
    "#data_scaled = data_scaled.drop(columns=['Time','Amount'])\n",
    "data_scaled.head()"
   ]
  },
  {
   "cell_type": "markdown",
   "id": "42d5f31d",
   "metadata": {},
   "source": [
    "<a id='balanceamento'></a>\n",
    "### Balanceamento\n",
    "Uma característica evidente deste dataset é o desbalanceamento. Como vimos, menos de 0.2% dos dados são fraude. Com uma amostra tão pequena em relação ao geral, o modelo fará um overfitting da classe majoritária (não-fraude). Então uso a técnica de random undersampling na amostra de treino para que o modelo seja balanceado.\n",
    "\n",
    "A fim de aumentar o número de amostras, uma proporção ótima foi escolhida, sem prejudicar de forma relevante o balanceamento do modelo\n"
   ]
  },
  {
   "cell_type": "code",
   "execution_count": 8,
   "id": "80c1a455",
   "metadata": {},
   "outputs": [],
   "source": [
    "def under_samp(X_train, y_train, prop):\n",
    "    \n",
    "    train_data = X_train.copy()\n",
    "    train_data.loc[:,(\"Class\")] = y_train.copy()\n",
    "    n_fraud = int(y_train.sum()) #afinal aqui voltam 1 ou 2 argumentos?\n",
    "    \n",
    "    fraud = train_data[train_data.Class == 1]\n",
    "    not_fraud = train_data[train_data.Class == 0]\n",
    "    \n",
    "    not_fraud = not_fraud.sample(int(n_fraud*prop), random_state=0)\n",
    "\n",
    "    undersampled = pd.concat([fraud, not_fraud], axis=0)\n",
    "    \n",
    "    return undersampled"
   ]
  },
  {
   "cell_type": "code",
   "execution_count": 9,
   "id": "0fdb5380",
   "metadata": {},
   "outputs": [
    {
     "data": {
      "text/html": [
       "<div>\n",
       "<style scoped>\n",
       "    .dataframe tbody tr th:only-of-type {\n",
       "        vertical-align: middle;\n",
       "    }\n",
       "\n",
       "    .dataframe tbody tr th {\n",
       "        vertical-align: top;\n",
       "    }\n",
       "\n",
       "    .dataframe thead th {\n",
       "        text-align: right;\n",
       "    }\n",
       "</style>\n",
       "<table border=\"1\" class=\"dataframe\">\n",
       "  <thead>\n",
       "    <tr style=\"text-align: right;\">\n",
       "      <th></th>\n",
       "      <th>Número de casos</th>\n",
       "      <th>Classe</th>\n",
       "    </tr>\n",
       "  </thead>\n",
       "  <tbody>\n",
       "    <tr>\n",
       "      <th>0</th>\n",
       "      <td>446</td>\n",
       "      <td>Não Fraude</td>\n",
       "    </tr>\n",
       "    <tr>\n",
       "      <th>1</th>\n",
       "      <td>372</td>\n",
       "      <td>Fraude</td>\n",
       "    </tr>\n",
       "  </tbody>\n",
       "</table>\n",
       "</div>"
      ],
      "text/plain": [
       "   Número de casos      Classe\n",
       "0              446  Não Fraude\n",
       "1              372      Fraude"
      ]
     },
     "execution_count": 9,
     "metadata": {},
     "output_type": "execute_result"
    }
   ],
   "source": [
    "# Separando amostras de treino e teste\n",
    "from sklearn.model_selection import train_test_split\n",
    "\n",
    "train_data, test_data, train_y, test_y = train_test_split(data_scaled.drop(columns=['Class']), data_scaled.Class,\n",
    "                                                          random_state=0)\n",
    "\n",
    "# Sub sample para dados de treino\n",
    "prop_undersmp = 1.2\n",
    "undersampled_train = under_samp(train_data, train_y, prop_undersmp)\n",
    "\n",
    "# Conferindo número de casos\n",
    "n_samples = pd.DataFrame(undersampled_train.Class.value_counts())\n",
    "n_samples[\"Classe\"] = [\"Não Fraude\", \"Fraude\"]\n",
    "n_samples.rename(columns={\"Class\": \"Número de casos\"}, inplace=True)\n",
    "n_samples"
   ]
  },
  {
   "cell_type": "markdown",
   "id": "7ecdc79d",
   "metadata": {},
   "source": [
    "<a id='correlacao'></a>\n",
    "### Correlação\n",
    "Com um dataset balanceado, é possível identificar com mais clareza os paramêtros que apresentam uma correlação - não necessariamente linear, por isso o uso do método Spearman - com o que se deseja prever: a classe (fraude ou não fraude). Assim escolhi as variáveis (features) que são mais influentes para treinar o modelo, pois outras variáveis não relacionadas podem ter uma influência negativa no resultado."
   ]
  },
  {
   "cell_type": "code",
   "execution_count": null,
   "id": "49b570e9",
   "metadata": {},
   "outputs": [],
   "source": [
    "import shap\n",
    "from sklearn.tree import DecisionTreeClassifier # (ou RandomForest?)\n",
    "tree_model = DecisionTreeClassifier()\n",
    "\n",
    "tree_model.fit(clean_train.drop(columns=['Class']), clean_train['Class'])\n",
    "explainer = shap.Explainer(tree_model.predict, test_data)"
   ]
  },
  {
   "cell_type": "code",
   "execution_count": 10,
   "id": "0e2f5923",
   "metadata": {},
   "outputs": [
    {
     "data": {
      "text/plain": [
       "Text(0.5, 1.0, 'Correlação entre os parâmetros')"
      ]
     },
     "execution_count": 10,
     "metadata": {},
     "output_type": "execute_result"
    },
    {
     "data": {
      "image/png": "[encoded data removed]",
      "text/plain": [
       "<Figure size 432x288 with 2 Axes>"
      ]
     },
     "metadata": {
      "needs_background": "light"
     },
     "output_type": "display_data"
    }
   ],
   "source": [
    "import seaborn as sns\n",
    "import matplotlib.pyplot as plt\n",
    "\n",
    "df_corr = undersampled_train.corr(method='spearman')\n",
    "\n",
    "sns.heatmap(df_corr, cmap='Blues')\n",
    "plt.title(\"Correlação entre os parâmetros\")"
   ]
  },
  {
   "cell_type": "code",
   "execution_count": 11,
   "id": "99d01aea",
   "metadata": {},
   "outputs": [
    {
     "data": {
      "text/plain": [
       "Index(['V3', 'V4', 'V10', 'V11', 'V12', 'V14'], dtype='object')"
      ]
     },
     "execution_count": 11,
     "metadata": {},
     "output_type": "execute_result"
    }
   ],
   "source": [
    "# Filtrando as melhores variáveis com um threshold\n",
    "\n",
    "thr_corr = 0.7\n",
    "\n",
    "best_feats = df_corr[abs(df_corr.Class) > thr_corr].index\n",
    "\n",
    "best_feats = best_feats[:len(best_feats)-1]\n",
    "best_feats"
   ]
  },
  {
   "cell_type": "markdown",
   "id": "845d94c7",
   "metadata": {},
   "source": [
    "<a id='modelo'></a>\n",
    "## Modelagem\n",
    "Nesta seção, comparo mais de um modelo de classificação usando os seguintes parâmetros:\n",
    "* Recall e precisão sobre a amostra de treino calculados pela validação cruzada, a fim de evitar overfitting e evitar obter resultados enviesados, com a seguinte interpretação:\n",
    "    * Recall (ou sensibilidade): a razão de todas as fraudes detectadas em relação às fraudes que existiam\n",
    "    * Precisão: razão entre o número de fraudes corretamente detectadas em relação à todas as fraudes previstas pelo modelo\n",
    "* F1 Score, calculado a partir da precisão e do recall, sendo a média harmônica entre os dois e fornecendo assim uma métrica única contendo as duas informações para escolha do modelo"
   ]
  },
  {
   "cell_type": "code",
   "execution_count": 15,
   "id": "332de329",
   "metadata": {},
   "outputs": [],
   "source": [
    "clean_train = undersampled_train.copy()\n",
    "\n",
    "# Amostra de treinamento com undersampling\n",
    "X_train = clean_train[best_feats]\n",
    "y_train = clean_train[\"Class\"]\n",
    "\n",
    "# Amostra de treinamento sem undersampling\n",
    "X = train_data[best_feats]\n",
    "y = train_y\n",
    "\n",
    "# Amostra de teste\n",
    "X_test = test_data[best_feats]\n",
    "y_test = test_y"
   ]
  },
  {
   "cell_type": "code",
   "execution_count": 16,
   "id": "ebda2201",
   "metadata": {},
   "outputs": [],
   "source": [
    "from sklearn.model_selection import cross_val_score\n",
    "import time\n",
    "\n",
    "def undersmp_scores(model, X_train, y_train):\n",
    "    start = time.time()\n",
    "    recall = np.mean(cross_val_score(model, X_train, y_train, scoring='recall'))\n",
    "    precision = np.mean(cross_val_score(model, X_train, y_train, scoring='precision'))\n",
    "    f1 = 2 * (precision * recall) / (precision + recall)\n",
    "    end = time.time()\n",
    "    return recall, precision, f1 ,end-start"
   ]
  },
  {
   "cell_type": "code",
   "execution_count": 17,
   "id": "471e45a1",
   "metadata": {},
   "outputs": [],
   "source": [
    "from xgboost import XGBClassifier, XGBRegressor\n",
    "\n",
    "# xgb_params = {}\n",
    "# xgb_params[\"objective\"] = 'reg:logistic'\n",
    "# xgb_params[\"random_state\"] = 0\n",
    "\n",
    "\n",
    "\n"
   ]
  },
  {
   "cell_type": "code",
   "execution_count": 18,
   "id": "2bd13218",
   "metadata": {},
   "outputs": [
    {
     "data": {
      "text/html": [
       "<div>\n",
       "<style scoped>\n",
       "    .dataframe tbody tr th:only-of-type {\n",
       "        vertical-align: middle;\n",
       "    }\n",
       "\n",
       "    .dataframe tbody tr th {\n",
       "        vertical-align: top;\n",
       "    }\n",
       "\n",
       "    .dataframe thead th {\n",
       "        text-align: right;\n",
       "    }\n",
       "</style>\n",
       "<table border=\"1\" class=\"dataframe\">\n",
       "  <thead>\n",
       "    <tr style=\"text-align: right;\">\n",
       "      <th></th>\n",
       "      <th>Modelo</th>\n",
       "      <th>Tempo (s)</th>\n",
       "      <th>Recall Score</th>\n",
       "      <th>Precision Score</th>\n",
       "      <th>F1 Score</th>\n",
       "    </tr>\n",
       "  </thead>\n",
       "  <tbody>\n",
       "    <tr>\n",
       "      <th>0</th>\n",
       "      <td>Regressão Logísitca</td>\n",
       "      <td>0.095565</td>\n",
       "      <td>0.895243</td>\n",
       "      <td>0.973981</td>\n",
       "      <td>0.932954</td>\n",
       "    </tr>\n",
       "    <tr>\n",
       "      <th>0</th>\n",
       "      <td>K Nearest Neighbors(KNN)</td>\n",
       "      <td>0.080375</td>\n",
       "      <td>0.892577</td>\n",
       "      <td>0.982468</td>\n",
       "      <td>0.935368</td>\n",
       "    </tr>\n",
       "    <tr>\n",
       "      <th>0</th>\n",
       "      <td>Árvore de Decisão</td>\n",
       "      <td>0.062629</td>\n",
       "      <td>0.914018</td>\n",
       "      <td>0.890183</td>\n",
       "      <td>0.901943</td>\n",
       "    </tr>\n",
       "    <tr>\n",
       "      <th>0</th>\n",
       "      <td>Random Forest</td>\n",
       "      <td>1.184970</td>\n",
       "      <td>0.905982</td>\n",
       "      <td>0.974392</td>\n",
       "      <td>0.938943</td>\n",
       "    </tr>\n",
       "    <tr>\n",
       "      <th>0</th>\n",
       "      <td>Support Vector Machine(SVC)</td>\n",
       "      <td>0.728776</td>\n",
       "      <td>0.876432</td>\n",
       "      <td>0.988188</td>\n",
       "      <td>0.928961</td>\n",
       "    </tr>\n",
       "    <tr>\n",
       "      <th>0</th>\n",
       "      <td>XGBoost</td>\n",
       "      <td>1.752709</td>\n",
       "      <td>0.919351</td>\n",
       "      <td>0.953130</td>\n",
       "      <td>0.935936</td>\n",
       "    </tr>\n",
       "  </tbody>\n",
       "</table>\n",
       "</div>"
      ],
      "text/plain": [
       "                        Modelo  Tempo (s)  Recall Score  Precision Score  \\\n",
       "0          Regressão Logísitca   0.095565      0.895243         0.973981   \n",
       "0     K Nearest Neighbors(KNN)   0.080375      0.892577         0.982468   \n",
       "0            Árvore de Decisão   0.062629      0.914018         0.890183   \n",
       "0                Random Forest   1.184970      0.905982         0.974392   \n",
       "0  Support Vector Machine(SVC)   0.728776      0.876432         0.988188   \n",
       "0                      XGBoost   1.752709      0.919351         0.953130   \n",
       "\n",
       "   F1 Score  \n",
       "0  0.932954  \n",
       "0  0.935368  \n",
       "0  0.901943  \n",
       "0  0.938943  \n",
       "0  0.928961  \n",
       "0  0.935936  "
      ]
     },
     "execution_count": 18,
     "metadata": {},
     "output_type": "execute_result"
    }
   ],
   "source": [
    "from sklearn.linear_model import LogisticRegression\n",
    "from sklearn.neighbors import KNeighborsClassifier\n",
    "from sklearn.tree import DecisionTreeClassifier\n",
    "from sklearn.ensemble import RandomForestClassifier\n",
    "from sklearn.svm import SVC\n",
    "\n",
    "models_names = [\"Regressão Logísitca\",\"Random Forest\",\"XGBoost\"]\n",
    "\n",
    "models = [LogisticRegression(random_state=0), RandomForestClassifier(random_state=0), XGBClassifier(random_state=0)]\n",
    "\n",
    "comparing_model = pd.DataFrame({\"Modelo\":[], \"Tempo (s)\": [], \"Recall Score\":[],\n",
    "                              \"Precision Score\":[],\"F1 Score\": []})\n",
    "\n",
    "for model_name,model in zip(models_names, models):\n",
    "    \n",
    "    recall, precision, f1, calc_time = undersmp_scores(model, X_train, y_train)\n",
    "\n",
    "    df_scores = pd.DataFrame({\"Modelo\":model_name, \"Tempo (s)\": calc_time, \"Recall Score\":recall,\n",
    "                              \"Precision Score\":precision,\"F1 Score\": f1}, index=[0])\n",
    "    \n",
    "    comparing_model = pd.concat([comparing_model, df_scores],axis=0)\n",
    "    \n",
    "comparing_model"
   ]
  },
  {
   "cell_type": "markdown",
   "id": "c7e5691a",
   "metadata": {},
   "source": [
    "O resultado mostra indícios de que o melhor classificador será o Random Forest. Faremos a comprovação sobre a amostra teste."
   ]
  },
  {
   "cell_type": "markdown",
   "id": "f43abde9",
   "metadata": {},
   "source": [
    "<a id='resultados'></a>\n",
    "## Métricas e resultados\n",
    "\n",
    "Com a amostra de teste, reforço a escolha do modelo de Random Forest através do cáculo da área soba curva de precision-recall (Area Under the Precision-Recall Curve - PR AUC) e demonstração da curva. Essa é uma métrica que foca nas razões de detecção da classe minoritária para diferentes valores de corte (threshold) da probabilidade prevista. Quanto mais próxima de um classificador ideal (PR AUC = 1), melhor.\n",
    "\n",
    "\n",
    "Além disso, nessa última seção discuto o balanceamento do modelo, mostrando a relevância do tratamento de Undersampling justificado pela métrica de Brier Score. Por fim, demonstro a performance do modelo escolhido em termos de \"bloqueio de transação\"."
   ]
  },
  {
   "cell_type": "code",
   "execution_count": 19,
   "id": "7a1f9858",
   "metadata": {},
   "outputs": [],
   "source": [
    "### Treinando os modelos e guardando os resultados\n",
    "\n",
    "all_probas = {\"Modelo\": [], \"y_proba\": []}\n",
    "\n",
    "for model_name, model in zip(models_names, models):\n",
    "    \n",
    "    model.fit(X_train, y_train)\n",
    "    y_proba = model.predict_proba(X_test)\n",
    "    \n",
    "    all_probas[\"Modelo\"].append(model_name)\n",
    "    all_probas[\"y_proba\"].append(y_proba[:,1])\n"
   ]
  },
  {
   "cell_type": "code",
   "execution_count": 20,
   "id": "2abfb70b",
   "metadata": {},
   "outputs": [
    {
     "data": {
      "text/plain": [
       "Text(0.5, 1.0, 'PR Curve')"
      ]
     },
     "execution_count": 20,
     "metadata": {},
     "output_type": "execute_result"
    },
    {
     "data": {
      "image/png": "[encoded data removed]",
      "text/plain": [
       "<Figure size 720x576 with 1 Axes>"
      ]
     },
     "metadata": {
      "needs_background": "light"
     },
     "output_type": "display_data"
    }
   ],
   "source": [
    "### AUC PRC\n",
    "from sklearn.metrics import precision_recall_curve, auc\n",
    "\n",
    "plt.figure(figsize=(10,8))\n",
    "\n",
    "for model_name, y_proba in zip(all_probas[\"Modelo\"], all_probas[\"y_proba\"]):\n",
    "    \n",
    "    precision, recall, _ = precision_recall_curve(y_test, y_proba)\n",
    "    pr_auc = auc(recall, precision)\n",
    "    label = model_name+\"\\nAUC={:.4f}\".format(pr_auc)\n",
    "    plt.plot(recall,precision, label=label)\n",
    "\n",
    "    \n",
    "no_skill = len(y_test[y_test==1]) / len(y_test)\n",
    "plt.plot([0, 1], [no_skill, no_skill], '--', color='gray', label='Random Classifier')\n",
    "plt.plot([0,1,1],[1,1,0],'--', color='black', label=\"Perfect Classifier\")\n",
    "plt.xlabel(\"Recall\")\n",
    "plt.ylabel(\"Precisão\")\n",
    "plt.legend()\n",
    "plt.title(\"PR Curve\")"
   ]
  },
  {
   "cell_type": "markdown",
   "id": "9a1b1694",
   "metadata": {},
   "source": [
    "<a id='calibracao'></a>\n",
    "### Calibração\n",
    "Para identificar o desbalanceamento do modelo, uso a métrica do Brier Score estratificado, que representa o erro quadrático médio de cada previsão em cada uma das classes. Quanto maior a diferença entre o Brier Score de cada classe, mais desbalanceado está o modelo.\n",
    "\n",
    "Antes, faço uma busca exaustiva pelos parâmetros do modelo usando o GridSearchCV na intenção de obter uma leve melhora na perfomance do modelo."
   ]
  },
  {
   "cell_type": "code",
   "execution_count": 37,
   "id": "669e2f8f",
   "metadata": {},
   "outputs": [
    {
     "name": "stdout",
     "output_type": "stream",
     "text": [
      "fim do grid search\n",
      "XGBoost\n",
      "PR AUC:  0.7452328396363408\n"
     ]
    }
   ],
   "source": [
    "# Melhores parâmetros pro XGBoost\n",
    "\n",
    "\n",
    "params = {\n",
    "    \"colsample_bytree\": [0.3, 0.5, 0.7],\n",
    "    \"gamma\": [0, 0.25, 0.5],\n",
    "    \"learning_rate\": [0.03, 0.1 , 0.3], # default 0.1 \n",
    "    \"max_depth\": [2,6], # default 3\n",
    "    \"subsample\": [0.4, 0.6],\n",
    "    \"random_state\": [0]\n",
    "} #obs: aqui não dá pra colocar floats sem ser em lista, internamente ele usa range\n",
    "\n",
    "grid_model = GridSearchCV(XGBClassifier(), params, scoring='f1')\n",
    "\n",
    "print(\"fim do grid search\")\n",
    "grid_model.fit(X_train, y_train)\n",
    "\n",
    "y_pred_undersmp = best_model.predict_proba(X_test)[:,1]\n",
    "\n",
    "precision_undersmp, recall_undersmp, threshold_pr = precision_recall_curve(y_test, y_pred_undersmp)\n",
    "pr_auc_undersmp = auc(recall_undersmp, precision_undersmp)\n",
    "\n",
    "print(\"XGBoost\")\n",
    "print(\"PR AUC: \", pr_auc_undersmp)"
   ]
  },
  {
   "cell_type": "code",
   "execution_count": 21,
   "id": "dc2195a5",
   "metadata": {},
   "outputs": [],
   "source": [
    "#Achando melhores parâmetros\n",
    "\n",
    "from sklearn.model_selection import GridSearchCV\n",
    "\n",
    "model = RandomForestClassifier(random_state=0)\n",
    "params = {\"max_depth\": list(range(1,4,1)), \"min_samples_leaf\": list(range(2,7,1)), 'random_state':[0]}\n",
    "\n",
    "#model = LogisticRegression(random_state=0)\n",
    "#params = {\"C\": [0.01,0.05,0.1,0.5,1,2,3],'penalty': ['l2'], 'solver': ['lbfgs', 'liblinear'], 'random_state':[0]}\n",
    "\n",
    "# model = XGBClassifier()\n",
    "# params = {\n",
    "#     \"colsample_bytree\": [0.3, 0.4, 0.5, 0.6, 0.7],\n",
    "#     \"gamma\": [0, 0.1, 0.2, 0.3, 0.4, 0.5],\n",
    "#     \"learning_rate\": [0.03, 0.05, 0.1 , 0.3], # default 0.1 \n",
    "#     \"max_depth\": range(2, 6,1), # default 3\n",
    "#     \"n_estimators\": range(100, 150,10), # default 100\n",
    "#     \"subsample\": [0.4, 0.5, 0.6],\n",
    "#     \"random_state\": [0]\n",
    "# }\n",
    "\n",
    "grid_model = GridSearchCV(model, params, scoring='f1')\n",
    "grid_model.fit(X_train, y_train)\n",
    "\n",
    "best_model = grid_model.best_estimator_\n",
    "\n",
    "# Com undersampling\n",
    "y_pred_undersmp = best_model.predict_proba(X_test)[:,1]\n",
    "\n",
    "# Sem undersampling\n",
    "y_pred_ = best_model.fit(X, y).predict_proba(X_test)[:,1]\n",
    "\n"
   ]
  },
  {
   "cell_type": "code",
   "execution_count": 38,
   "id": "955831b7",
   "metadata": {},
   "outputs": [],
   "source": [
    "def stratified_brier_score(y_true, y_probs):\n",
    "    fraud = ((y_probs[y_true==1] - 1)**2).mean()\n",
    "    not_fraud = ((y_probs[y_true==0])**2).mean()\n",
    "    \n",
    "    return [fraud, not_fraud]"
   ]
  },
  {
   "cell_type": "code",
   "execution_count": 39,
   "id": "b5c67900",
   "metadata": {},
   "outputs": [
    {
     "data": {
      "text/html": [
       "<div>\n",
       "<style scoped>\n",
       "    .dataframe tbody tr th:only-of-type {\n",
       "        vertical-align: middle;\n",
       "    }\n",
       "\n",
       "    .dataframe tbody tr th {\n",
       "        vertical-align: top;\n",
       "    }\n",
       "\n",
       "    .dataframe thead th {\n",
       "        text-align: right;\n",
       "    }\n",
       "</style>\n",
       "<table border=\"1\" class=\"dataframe\">\n",
       "  <thead>\n",
       "    <tr style=\"text-align: right;\">\n",
       "      <th></th>\n",
       "      <th>Random Forest</th>\n",
       "      <th>PR AUC</th>\n",
       "      <th>Bier score (fraude)</th>\n",
       "      <th>Brier score (não-fraude)</th>\n",
       "    </tr>\n",
       "  </thead>\n",
       "  <tbody>\n",
       "    <tr>\n",
       "      <th>0</th>\n",
       "      <td>Undersampling</td>\n",
       "      <td>0.745233</td>\n",
       "      <td>0.299608</td>\n",
       "      <td>0.000127</td>\n",
       "    </tr>\n",
       "    <tr>\n",
       "      <th>1</th>\n",
       "      <td>Normal</td>\n",
       "      <td>0.745233</td>\n",
       "      <td>0.299608</td>\n",
       "      <td>0.000127</td>\n",
       "    </tr>\n",
       "  </tbody>\n",
       "</table>\n",
       "</div>"
      ],
      "text/plain": [
       "   Random Forest    PR AUC  Bier score (fraude)  Brier score (não-fraude)\n",
       "0  Undersampling  0.745233             0.299608                  0.000127\n",
       "1         Normal  0.745233             0.299608                  0.000127"
      ]
     },
     "execution_count": 39,
     "metadata": {},
     "output_type": "execute_result"
    }
   ],
   "source": [
    "from sklearn.calibration import calibration_curve\n",
    "\n",
    "# Com undersampling\n",
    "\n",
    "precision_undersmp, recall_undersmp, threshold_pr = precision_recall_curve(y_test, y_pred_undersmp)\n",
    "pr_auc_undersmp = auc(recall_undersmp, precision_undersmp)\n",
    "brier_score_undersmp = stratified_brier_score(y_test, y_pred_undersmp)\n",
    "\n",
    "# Sem undersampling\n",
    "\n",
    "precision, recall, _ = precision_recall_curve(y_test, y_pred_)\n",
    "pr_auc = auc(recall, precision)\n",
    "brier_score = stratified_brier_score(y_test, y_pred_)\n",
    "\n",
    "model_cal = pd.DataFrame({\"Random Forest\":[\"Undersampling\", \"Normal\"], \n",
    "                          \"PR AUC\": [pr_auc_undersmp, pr_auc],\n",
    "                         \"Bier score (fraude)\":[brier_score_undersmp[0],brier_score[0]], \n",
    "                          \"Brier score (não-fraude)\":[brier_score_undersmp[1],brier_score[1]]})\n",
    "\n",
    "model_cal"
   ]
  },
  {
   "cell_type": "markdown",
   "id": "65c4d333",
   "metadata": {},
   "source": [
    "\n",
    "<a id='performance'></a>\n",
    "### Performance\n",
    "\n",
    "Como a curva de PR é criada a partir de diferentes valores de corte, é possível encontrar um valor ótimo. Esse ponto será determinado a partir média harmônica entre os eixos, o que corresponde à calcular o F1 Score. Quanto maior o valor da média, melhor o compromisso entre precisão e sensibilidade (recall)\n",
    "\n",
    "Usando esse valor de corte, teremos otimizado a perfomance do modelo de um ponto de vista estatístico, mas cabem discussões sobre a proporção de erros aceitáveis de um ponto de vista de negócios."
   ]
  },
  {
   "cell_type": "code",
   "execution_count": 40,
   "id": "5abe2d16",
   "metadata": {},
   "outputs": [
    {
     "name": "stdout",
     "output_type": "stream",
     "text": [
      "Melhor valor de corte: 0.1432\n",
      "Isto é: se a probabilidade de ser fraude for maior que o valor de corte, será classificado como fraude\n"
     ]
    }
   ],
   "source": [
    "# convert to f score\n",
    "fscore = (2 * precision_undersmp * recall_undersmp) / (precision_undersmp + recall_undersmp)\n",
    "\n",
    "idx = np.argmax(fscore)\n",
    "\n",
    "best_thr = round(threshold_pr[idx], ndigits=4)\n",
    "best_f1 = round(fscore[idx], ndigits=4)\n",
    "best_prec = round(precision_undersmp[idx], ndigits=4)\n",
    "best_recall = round(recall_undersmp[idx], ndigits=4)\n",
    "\n",
    "print('Melhor valor de corte: {}'.format(best_thr))\n",
    "print(\"Isto é: se a probabilidade de ser fraude for maior que o valor de corte, será classificado como fraude\")"
   ]
  },
  {
   "cell_type": "code",
   "execution_count": 41,
   "id": "8a5499b0",
   "metadata": {
    "scrolled": false
   },
   "outputs": [
    {
     "name": "stdout",
     "output_type": "stream",
     "text": [
      "As matrizes podem ser interpretadas da seguinte forma:\n",
      "\n",
      "Para o valor de corte igual a 0.5000\n",
      "60.83% das fraudes que ocorreram seriam detectadas por esse modelo            \n",
      "0.02% das transações seriam bloqueadas injustamente(transações normais classificadas como fraude)\n",
      "\n",
      "Para o valor de corte igual a 0.1432\n",
      "79.17% das fraudes que ocorreram seriam detectadas por esse modelo            \n",
      "0.03% das transações seriam bloqueadas injustamente(transações normais classificadas como fraude)\n",
      "\n"
     ]
    },
    {
     "data": {
      "image/png": "[encoded data removed]",
      "text/plain": [
       "<Figure size 720x360 with 4 Axes>"
      ]
     },
     "metadata": {
      "needs_background": "light"
     },
     "output_type": "display_data"
    }
   ],
   "source": [
    "## Visualização gráfica\n",
    "from sklearn.metrics import confusion_matrix\n",
    "\n",
    "fig, axs = plt.subplots(nrows=1, ncols=2, figsize=(10, 5))\n",
    "\n",
    "thresholds_list = [0.5, best_thr]\n",
    "\n",
    "print('As matrizes podem ser interpretadas da seguinte forma:\\n')\n",
    "\n",
    "for thr,ax in zip(thresholds_list, axs.ravel()):\n",
    "      y_pred = np.where(y_pred_undersmp > thr, 1, 0)\n",
    "      \n",
    "      cf_mtx = confusion_matrix(y_test,y_pred)\n",
    "      \n",
    "      tn, fp, fn, tp = cf_mtx.ravel()\n",
    "      print(\"Para o valor de corte igual a {:.4f}\".format(thr))\n",
    "      print( '{:.2f}% das fraudes que ocorreram seriam detectadas por esse modelo\\\n",
    "            \\n{:.2f}% das transações seriam bloqueadas injustamente(transações normais classificadas como fraude)\\n'\\\n",
    "            .format(tp/(tp+fn)*100, fp/(fp+tn)*100) )\n",
    "      \n",
    "      cf_mtx = sns.heatmap(cf_mtx, cmap=\"Blues\", annot = True, fmt='g', ax=ax)\n",
    "      cf_mtx.set(xlabel=\"Predicted Label\", ylabel =\"True Label\", title=\"Matriz de Confusão: Random Forest\\nValor de corte {:.4f}\".format(thr))\n",
    "\n",
    "fig.tight_layout()\n",
    "plt.show()\n",
    "\n"
   ]
  },
  {
   "cell_type": "markdown",
   "id": "a5beb994",
   "metadata": {},
   "source": [
    "<a id='smote'></a>\n",
    "### SMOTE\n",
    "Por uma questão de tempo de processamento (e custo operacional), optei por evitar calcular os scores por validação cruzada com uma amostra tratada balanceada por Oversampling usando o método SMOTE.\n",
    "Esse método cria dados sintéticos da classe minoritária (fraude) a partir dos valores da vizinhança, aumentando assim a base de treino com a mesma proporção para as duas classes.\n",
    "\n",
    "Então, com a finalidade de analisar a perfomance e calibração do modelo, utilizarei uma amostra balanceada por oversampling diretamente no modelo escolhido prevendo a amostra de teste."
   ]
  },
  {
   "cell_type": "code",
   "execution_count": 44,
   "id": "7b024408",
   "metadata": {},
   "outputs": [
    {
     "name": "stdout",
     "output_type": "stream",
     "text": [
      "Dataset com 426466 linhas de transação, sendo 213233 fraudes e 213233 não fraudes\n"
     ]
    }
   ],
   "source": [
    "# Agora testando o modelo sobre uma base de treino com tratamento oversampled\n",
    "\n",
    "# Oversampling\n",
    "from imblearn.over_sampling import SMOTE\n",
    "from sklearn.metrics import precision_score, recall_score, f1_score\n",
    "\n",
    "smote = SMOTE(random_state = 0)\n",
    "X_oversmp, y_oversmp = smote.fit_resample(X, y) \n",
    "\n",
    "print(\"Dataset com {} linhas de transação, sendo {} fraudes e {} não fraudes\".format(len(y_oversmp), sum(y_oversmp==1),\n",
    "                                                                                    y_oversmp[y_oversmp==0].count()))\n",
    "\n",
    "model = XGBClassifier(random_state=0)\n",
    "#model = LogisticRegression(random_state=0)\n",
    "#model = RandomForestClassifier(random_state=0)\n",
    "\n",
    "# Treinando o modelo novamente\n",
    "y_pred_oversmp_proba = model.fit(X_oversmp, y_oversmp).predict_proba(X_test)[:,1]\n",
    "y_pred_oversmp = model.predict(X_test)\n",
    "# Analisando resultados de predição do teste\n",
    "precision, recall, threshold = precision_recall_curve(y_test, y_pred_oversmp_proba)\n",
    "pr_auc = auc(recall, precision)\n",
    "brier_score = stratified_brier_score(y_test, y_pred_oversmp_proba)\n",
    "\n"
   ]
  },
  {
   "cell_type": "code",
   "execution_count": 45,
   "id": "5b7f8273",
   "metadata": {},
   "outputs": [
    {
     "data": {
      "text/html": [
       "<div>\n",
       "<style scoped>\n",
       "    .dataframe tbody tr th:only-of-type {\n",
       "        vertical-align: middle;\n",
       "    }\n",
       "\n",
       "    .dataframe tbody tr th {\n",
       "        vertical-align: top;\n",
       "    }\n",
       "\n",
       "    .dataframe thead th {\n",
       "        text-align: right;\n",
       "    }\n",
       "</style>\n",
       "<table border=\"1\" class=\"dataframe\">\n",
       "  <thead>\n",
       "    <tr style=\"text-align: right;\">\n",
       "      <th></th>\n",
       "      <th>Precision Score</th>\n",
       "      <th>Recall Score</th>\n",
       "      <th>F1 Score</th>\n",
       "      <th>PR AUC</th>\n",
       "      <th>Brier Score (fraude)</th>\n",
       "      <th>Brier Score (não fraude)</th>\n",
       "    </tr>\n",
       "  </thead>\n",
       "  <tbody>\n",
       "    <tr>\n",
       "      <th>0</th>\n",
       "      <td>0.258883</td>\n",
       "      <td>0.85</td>\n",
       "      <td>0.396887</td>\n",
       "      <td>0.817056</td>\n",
       "      <td>0.140214</td>\n",
       "      <td>0.003358</td>\n",
       "    </tr>\n",
       "  </tbody>\n",
       "</table>\n",
       "</div>"
      ],
      "text/plain": [
       "   Precision Score  Recall Score  F1 Score    PR AUC  Brier Score (fraude)  \\\n",
       "0         0.258883          0.85  0.396887  0.817056              0.140214   \n",
       "\n",
       "   Brier Score (não fraude)  \n",
       "0                  0.003358  "
      ]
     },
     "execution_count": 45,
     "metadata": {},
     "output_type": "execute_result"
    }
   ],
   "source": [
    "pd.DataFrame.from_dict({\"Precision Score\": [precision_score(y_test, y_pred_oversmp)],\n",
    "                                     \"Recall Score\": [recall_score(y_test, y_pred_oversmp)],\n",
    "                                     \"F1 Score\":[f1_score(y_test, y_pred_oversmp)], \"PR AUC\": [pr_auc],\n",
    "                                     \"Brier Score (fraude)\": [brier_score[0]],\"Brier Score (não fraude)\":[brier_score[1]]})\n"
   ]
  },
  {
   "cell_type": "code",
   "execution_count": 46,
   "id": "e1899210",
   "metadata": {},
   "outputs": [
    {
     "name": "stdout",
     "output_type": "stream",
     "text": [
      "As matrizes podem ser interpretadas da seguinte forma:\n",
      "\n",
      "Para o valor de corte igual a 0.5000\n",
      "85.00% das fraudes que ocorreram seriam detectadas por esse modelo            \n",
      "0.41% das transações seriam bloqueadas injustamente(transações normais classificadas como fraude)\n",
      "\n",
      "Para o valor de corte igual a 0.9965\n",
      "77.50% das fraudes que ocorreram seriam detectadas por esse modelo            \n",
      "0.01% das transações seriam bloqueadas injustamente(transações normais classificadas como fraude)\n",
      "\n"
     ]
    },
    {
     "data": {
      "image/png": "[encoded data removed]",
      "text/plain": [
       "<Figure size 720x360 with 4 Axes>"
      ]
     },
     "metadata": {
      "needs_background": "light"
     },
     "output_type": "display_data"
    }
   ],
   "source": [
    "# Melhor Thrseshold\n",
    "fscore = (2 * precision * recall) / (precision + recall)\n",
    "idx = np.argmax(fscore)\n",
    "best_thr=threshold[idx]\n",
    "precision[idx]\n",
    "\n",
    "fig, axs = plt.subplots(nrows=1, ncols=2, figsize=(10, 5))\n",
    "\n",
    "thresholds_list = [0.5, best_thr]\n",
    "\n",
    "print('As matrizes podem ser interpretadas da seguinte forma:\\n')\n",
    "\n",
    "for thr,ax in zip(thresholds_list, axs.ravel()):\n",
    "      y_pred = np.where(y_pred_oversmp_proba> thr, 1, 0)\n",
    "      \n",
    "      cf_mtx = confusion_matrix(y_test,y_pred)\n",
    "      \n",
    "      tn, fp, fn, tp = cf_mtx.ravel()\n",
    "      print(\"Para o valor de corte igual a {:.4f}\".format(thr))\n",
    "      print( '{:.2f}% das fraudes que ocorreram seriam detectadas por esse modelo\\\n",
    "            \\n{:.2f}% das transações seriam bloqueadas injustamente(transações normais classificadas como fraude)\\n'\\\n",
    "            .format(tp/(tp+fn)*100, fp/(fp+tn)*100) )\n",
    "      \n",
    "      cf_mtx = sns.heatmap(cf_mtx, cmap=\"Blues\", annot = True, fmt='g', ax=ax)\n",
    "      cf_mtx.set(xlabel=\"Predicted Label\", ylabel =\"True Label\", title=\"Matriz de Confusão: Random Forest\\nValor de corte {:.4f}\".format(thr))\n",
    "\n",
    "fig.tight_layout()\n",
    "plt.show()"
   ]
  },
  {
   "cell_type": "markdown",
   "id": "117a1e28",
   "metadata": {},
   "source": [
    "Notamos que com um balanceamento nos dados feito por oversampling o modelo continua desbalanceado. Esse fator por si só não é suficiente para eliminar o tratamento.\n",
    "\n",
    "Porém, a proporção entre recall e especificidade é muito semelhante nas duas abordagens, o que não traz melhorias para nosso objetivo. Além disso, o custo operacional é maior quanto maior for a base."
   ]
  },
  {
   "cell_type": "markdown",
   "id": "87faca36",
   "metadata": {},
   "source": [
    "Track record:\n",
    "\n",
    "Undersampl - Rand Forest\n",
    "\n",
    "* 0.5000: 89.17% detectadas 1.63% bloqueadas \n",
    "* 0.9569: 79.17% detectadas 0.02% bloqueadas\n",
    "\n",
    "SMOTE - Rand Forest\n",
    "* 0.5000 : 85.00% detectadas 0.08% bloqueadas injustamente\n",
    "* 0.8600 : 75.83%  detectadas 0.01% bloqueadas\n",
    "\n",
    "XGBoost"
   ]
  },
  {
   "cell_type": "markdown",
   "id": "ca992250",
   "metadata": {},
   "source": [
    "<a id='conclusao'></a>\n",
    "## Conclusão\n",
    "\n",
    "* No tratamento de dados, foi suficiente a normalização das colunas 'Amount' e 'Time'. Os outliers se mostraram mais relevantes para melhorar a performance que o contrário e as features escolhidas para treino foram aquelas que apresentaram mais de 0.7 de correlação Spearman com a classe.\n",
    "\n",
    "\n",
    "* Por ser um problema com uma base extremamente desbalanceada, o melhor método para correção dessa característica foi o Undersampling em uma proporção 60-50, o que aumenta o número de dados em relação a uma proporção de 50-50, mas sem comprometer o balanceamento. Este último foi mensurado com o Brier Score estratificado. Contudo, ainda se tem uma perda grande em relação ao tamanho da base inicial.\n",
    "\n",
    "\n",
    "* Os classificadores perfomam de forma muito parecida se comparamos somente o F1 Score, mas o Random Forest se destaca quando avaliamos a performance sobre o teste comparando a PR AUC de cada modelo, por esse motivo Random Forest é o modelo escolhido. \n",
    "\n",
    "\n",
    "* Visando aumentar a detecção de fraudes, recomendo o uso do threshold=0.5. Entendo que vale o foco na detecção de fraudes em prol do bloqueio de transações que não são fraudes, pois o custo operacional e indireto (satisfação do cliente) são menores do que uma fraude não detectada. O compromisso entre esses dois fatores pode ser aberto a discussão.\n"
   ]
  },
  {
   "cell_type": "markdown",
   "id": "99005a3d",
   "metadata": {},
   "source": [
    "     "
   ]
  },
  {
   "cell_type": "markdown",
   "id": "8bb796ad",
   "metadata": {},
   "source": [
    "    "
   ]
  },
  {
   "cell_type": "markdown",
   "id": "6ff31488",
   "metadata": {},
   "source": [
    "    "
   ]
  },
  {
   "cell_type": "markdown",
   "id": "182f1601",
   "metadata": {},
   "source": [
    "   \n",
    "   \n",
    "  \n",
    "  \n",
    "   \n",
    "   \n",
    "   \n",
    "   \n",
    "--------------------------------------------------------------------------------------------------------------------------------"
   ]
  },
  {
   "cell_type": "markdown",
   "id": "a1b50c3e",
   "metadata": {},
   "source": [
    "*Track record:  balanceamento=1 ; correlacao=0.7 ;COM outliers ; F1=0.9434; PRAUC=0.7561* 89.17% detectadas 2.24% bloqueadas\n",
    "\n",
    "*Track record:  balanceamento=1.2 ; correlacao=0.7 ;COM outliers ; F1=0.9389 PRAUC=0.7659* 89.17% detectadas 1.63% bloqueadas\n",
    "\n",
    "*Track record:  balanceamento=1.5 ; correlacao=0.7 ;COM outliers ; F1=0.9329 PRAUC=0.7652*\n",
    "\n",
    "*Track record:  balanceamento=2 ; correlacao=0.7 ;COM outliers ; F1=0.9334 PRAUC=0.7551*\n",
    "\n",
    "*Track record:  balanceamento=1.2 ; correlacao=0.6 ;COM outliers ; F1=0.9283 PRAUC=0.7872* 86.67% detectadas 0.86% \n",
    "\n",
    "*Track record:  balanceamento=1.2 ; correlacao=0.5 ;COM outliers ; F1=0.9285 PRAUC=0.7880* 85.83% detectadas 0.53% \n",
    "\n",
    "*Track record:  balanceamento=1.2 ; correlacao=0.6 ;SEM outliers 1.8; F1=0.915 PRAUC=0.77* 87.50% detectadas 1.06% bloqueadas\n"
   ]
  }
 ],
 "metadata": {
  "kernelspec": {
   "display_name": "Python 3 (ipykernel)",
   "language": "python",
   "name": "python3"
  },
  "language_info": {
   "codemirror_mode": {
    "name": "ipython",
    "version": 3
   },
   "file_extension": ".py",
   "mimetype": "text/x-python",
   "name": "python",
   "nbconvert_exporter": "python",
   "pygments_lexer": "ipython3",
   "version": "3.9.12"
  }
 },
 "nbformat": 4,
 "nbformat_minor": 5
}
